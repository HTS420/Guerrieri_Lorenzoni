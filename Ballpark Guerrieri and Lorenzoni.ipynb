{
 "cells": [
  {
   "cell_type": "markdown",
   "metadata": {},
   "source": [
    "# Guerrieri and Lorenzoni 2017"
   ]
  },
  {
   "cell_type": "markdown",
   "metadata": {},
   "source": [
    "# Credit Crises, Precautionary Savings, and The Liquidity Trap"
   ]
  },
  {
   "cell_type": "markdown",
   "metadata": {},
   "source": [
    "## Summary"
   ]
  },
  {
   "cell_type": "markdown",
   "metadata": {},
   "source": [
    "This paper uses a heterogeneous agents model with incomplete markets and endogenous labor supply to analyze the effects of a credit crunch on consumer spending. \n",
    "\n",
    "Main Findings: \n",
    "\n",
    "(i) A credit crunch leads to a fall in consumption and real interest rates due to a forced deleveraging and an increase in precautionary savings.\n",
    "\n",
    "(ii) Adding nominal rigidities to the baseline model may  exacerbate the effects on output as the zero lower bound may prevent the real interest rate from falling sufficiently in order to attain the flexible price equilibrium.\n",
    "\n",
    "(iii) Adding durable goods to the baseline model does not fundamentally alter the baseline result mentioned in (i). In this extension, there is a fall in consumption in both non durables and durables for credit constrained consumers and an increase in precautionary savings through durables and bonds for net lenders.  "
   ]
  },
  {
   "cell_type": "markdown",
   "metadata": {},
   "source": [
    "## Non-Technical Overview"
   ]
  },
  {
   "cell_type": "markdown",
   "metadata": {},
   "source": [
    "The authors consider a heterogeneous agents model where there is a continuum of infinitely lived households with idiosyncratic uncertainty to their labor productivity and subject to a borrowing limit.  In order to understand the effects of a credit crunch, the authors analyze how a shock to the borrowing limit (a tightening in credit) influences each household's consumption decision and the resulting interest rate dynamics. "
   ]
  },
  {
   "cell_type": "markdown",
   "metadata": {},
   "source": [
    "## Baseline Model"
   ]
  },
  {
   "cell_type": "markdown",
   "metadata": {},
   "source": [
    "#### Households/Producers"
   ]
  },
  {
   "cell_type": "markdown",
   "metadata": {},
   "source": [
    "There is a continuum of infinitely lived households with preferences represented by\n",
    "the utility function: $$\n",
    "\\mathrm{E}\\left[\\sum_{t=0}^{\\infty} \\beta^{t} U\\left(c_{i t}, n_{i t}\\right)\\right]\n",
    "$$\n",
    "\n",
    "where $U(c, n)=\\frac{c^{1-\\gamma}}{1-\\gamma}+\\psi \\frac{(1-n)^{1-\\eta}}{1-\\eta}$\n",
    "\n",
    "Each household \\textit{i} chooses $c_{it}$ and $n_{it}$ to maximize their lifetime expected utility  subject to their household budget constraint described below. Production is dependent on the choice of $n_{it}$\n",
    "$$\n",
    "y_{i t}=\\theta_{i t} n_{i t}\n",
    "$$\n",
    "\n",
    "where $ \\theta_{i t}$ is an idiosyncratic shock to the labor productivity of  household \\textit{i}, which follows a Markov chain on the space $\\left\\{\\theta^{1}, \\ldots, \\theta^{S}\\right\\}$. Let $\\theta^{1} =0$."
   ]
  },
  {
   "cell_type": "markdown",
   "metadata": {},
   "source": [
    "#### Household Budget Constraint"
   ]
  },
  {
   "cell_type": "markdown",
   "metadata": {},
   "source": [
    "$$\n",
    "q_{t} b_{i t+1} +c_{i t}+\\tilde{\\tau}_{i t} \\leq b_{i t}+y_{i t}\n",
    "$$\n",
    "\n",
    "where $q_{t}$ is the bond price, $\\tilde{\\tau}_{i t}$ are taxes such that $\\tilde{\\tau}_{i t}=\\tau_{t}$ if $\\theta_{i t}>0$ and $\\tilde{\\tau}_{i t}=\\tau_{t}-v_{t}$ if $\\theta_{i t}=0$ where $v_{t}$ is unemployment insurance. $b_{i t+1}$ are bond holdings.\n",
    "\n",
    "Household debt is bounded below by an exogenous limit $\\phi > 0$. That is,\n",
    "\n",
    "$$b_{i t+1} \\geq-\\phi$$\n",
    "\n",
    "A credit crunch is equivalent to lowering the value of $\\phi$."
   ]
  },
  {
   "cell_type": "markdown",
   "metadata": {},
   "source": [
    "#### Government"
   ]
  },
  {
   "cell_type": "markdown",
   "metadata": {},
   "source": [
    "The government chooses the aggregate supply of bonds $B_{t}$, the unemployment benefit $v_{t}$ and the lump sum tax $\\tau_{t}$ so as to satisfy the budget constraint\n",
    "\n",
    "$$B_{t}+v_{t} u=q_{t} B_{t+1}+\\tau_{t}$$\n",
    "\n",
    "where where u = Pr ($\\theta_{it}$ = 0) is the fraction of unemployed agents in the population."
   ]
  },
  {
   "cell_type": "markdown",
   "metadata": {},
   "source": [
    "### Dynamic Program"
   ]
  },
  {
   "cell_type": "markdown",
   "metadata": {},
   "source": [
    "\n",
    "For household i, the Bellman equation is\n",
    "\n",
    "$$\n",
    "\\begin{aligned}\n",
    "V_{it}(b_{it}, \\theta_{it})=\\max _{c_{it}, n_{it}, b_{it+1}} & U(c_{it}, n_{it})+\\beta E\\left[V\\left(b_{it+1}, \\theta_{t+1}\\right) \\mid \\theta_{it}\\right] \\\\\n",
    "\\text { s.t. } & b_{it}+\\theta_{it} n_{it} -\\tau(\\theta_{it}) \\geq q_{it} b_{it+1}+c_{it}, \\\\\n",
    "& b_{it+1}+\\phi \\geq 0\n",
    "\\end{aligned}\n",
    "$$"
   ]
  },
  {
   "cell_type": "markdown",
   "metadata": {},
   "source": [
    "### Results"
   ]
  },
  {
   "cell_type": "markdown",
   "metadata": {},
   "source": [
    "#### Baseline Model"
   ]
  },
  {
   "cell_type": "markdown",
   "metadata": {},
   "source": [
    "Consumers who's borrowing constraint was slack are forced to deleverage when the borrowing limit falls. These consumers both increase their labor supply and reduce their consumption. Furthermore, this deleveraging requires in an increase in  the demand for bonds to a fall in the real interest rate.\n",
    "\n",
    "There is an increase in precautionary savings for non-constrained consumers (who are not at the right tail of the initial bond distribution) in order to buffer themselves against future shocks. Increasing their precautionary motive requires an increase in the demand for bonds leading the real interest rate to fall.\n",
    "\n",
    "Only highly productive consumers (those who did not experience a significant negative productivity shock) will decumulate bonds and increase consumption from lowered interest rates.\n"
   ]
  },
  {
   "cell_type": "markdown",
   "metadata": {},
   "source": [
    "#### Model with Durables"
   ]
  },
  {
   "cell_type": "markdown",
   "metadata": {},
   "source": [
    "In the extension of the baseline model with durable goods, credit constrained consumers once more see a drop in consumption however in both non durables and durables goods. \n",
    "\n",
    "For non constrained consumers, there is a increase in precautionary savings in both durable goods and bonds as durables serve as a store of value that is an imperfect substitute to bonds. \n",
    "\n",
    "In the model, consumption for durables may rise or fall due to the two opposing effects mentioned above. The authors' calibrations led to an increase in consumption for durables. "
   ]
  },
  {
   "cell_type": "code",
   "execution_count": null,
   "metadata": {},
   "outputs": [],
   "source": []
  }
 ],
 "metadata": {
  "kernelspec": {
   "display_name": "Python 3",
   "language": "python",
   "name": "python3"
  },
  "language_info": {
   "codemirror_mode": {
    "name": "ipython",
    "version": 3
   },
   "file_extension": ".py",
   "mimetype": "text/x-python",
   "name": "python",
   "nbconvert_exporter": "python",
   "pygments_lexer": "ipython3",
   "version": "3.7.3"
  }
 },
 "nbformat": 4,
 "nbformat_minor": 2
}
